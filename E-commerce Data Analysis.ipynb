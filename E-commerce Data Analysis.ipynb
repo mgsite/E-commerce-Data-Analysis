{
 "cells": [
  {
   "cell_type": "code",
   "execution_count": null,
   "metadata": {},
   "outputs": [],
   "source": [
    "%pip install pandas dask matplotlib seaborn\n"
   ]
  },
  {
   "cell_type": "code",
   "execution_count": null,
   "metadata": {},
   "outputs": [],
   "source": [
    "import pandas as pd\n",
    "import numpy as np\n",
    "import matplotlib.pyplot as plt\n",
    "import seaborn as sns\n",
    "\n",
    "# Load the dataset\n",
    "file_path = r'C:\\Users\\María\\Downloads\\E-commerce.csv'\n",
    "df = pd.read_csv(file_path)\n",
    "\n",
    "# Display the first few rows of the dataframe\n",
    "df.head()\n",
    "\n"
   ]
  },
  {
   "cell_type": "code",
   "execution_count": null,
   "metadata": {},
   "outputs": [],
   "source": [
    "# Display general information about the dataset\n",
    "df.info()\n",
    "\n",
    "# Display summary statistics for numeric columns\n",
    "df.describe()\n",
    "\n",
    "# Check for missing values\n",
    "df.isnull().sum()\n"
   ]
  },
  {
   "cell_type": "code",
   "execution_count": null,
   "metadata": {},
   "outputs": [],
   "source": [
    "#EDA\n",
    "# Distribution of 'Age' column\n",
    "sns.histplot(df['Age'], kde=True)\n",
    "plt.title('Age Distribution')\n",
    "plt.xlabel('Age')\n",
    "plt.ylabel('Frequency')\n",
    "plt.show()\n",
    "\n"
   ]
  },
  {
   "cell_type": "code",
   "execution_count": null,
   "metadata": {},
   "outputs": [],
   "source": [
    "# Group by 'Location' and sum up the 'Annual Income'\n",
    "location_income = df.groupby('Location')['Annual Income'].sum().reset_index()\n",
    "\n",
    "# Bar plot of income by location\n",
    "sns.barplot(x='Location', y='Annual Income', data=location_income)\n",
    "plt.title('Annual Income by Location')\n",
    "plt.xlabel('Location')\n",
    "plt.ylabel('Annual Income')\n",
    "plt.show()\n"
   ]
  },
  {
   "cell_type": "code",
   "execution_count": null,
   "metadata": {},
   "outputs": [],
   "source": [
    "from sklearn.cluster import KMeans\n",
    "from sklearn.preprocessing import StandardScaler\n",
    "\n",
    "# Select features for clustering\n",
    "features = df[['Annual Income', 'Age']].dropna()\n",
    "scaler = StandardScaler()\n",
    "features_scaled = scaler.fit_transform(features)\n",
    "\n",
    "# Apply K-Means clustering\n",
    "kmeans = KMeans(n_clusters=3, random_state=0)\n",
    "df['Cluster'] = kmeans.fit_predict(features_scaled)\n",
    "\n",
    "# Plot clusters\n",
    "plt.figure(figsize=(12, 6))\n",
    "sns.scatterplot(x='Annual Income', y='Age', hue='Cluster', data=df, palette='viridis')\n",
    "plt.title('Customer Segmentation')\n",
    "plt.xlabel('Annual Income')\n",
    "plt.ylabel('Age')\n",
    "plt.show()\n",
    "\n"
   ]
  },
  {
   "cell_type": "code",
   "execution_count": null,
   "metadata": {},
   "outputs": [],
   "source": [
    "# Conclusions\n",
    "\n",
    "1. **Age Distribution**: Most customers fall within a specific age range.\n",
    "2. **Income by Location**: Certain locations have higher annual incomes, which could be targeted for marketing.\n",
    "3. **Purchase History Analysis**: Understanding the most common types of purchases can guide inventory and marketing strategies.\n",
    "\n",
    "# Recommendations\n",
    "\n",
    "1. **Targeted Marketing**: Focus on locations with higher annual incomes.\n",
    "2. **Customer Insights**: Use customer segments to tailor marketing efforts and product offerings based on income and age.\n"
   ]
  }
 ],
 "metadata": {
  "kernelspec": {
   "display_name": "Python 3",
   "language": "python",
   "name": "python3"
  },
  "language_info": {
   "codemirror_mode": {
    "name": "ipython",
    "version": 3
   },
   "file_extension": ".py",
   "mimetype": "text/x-python",
   "name": "python",
   "nbconvert_exporter": "python",
   "pygments_lexer": "ipython3",
   "version": "3.12.5"
  }
 },
 "nbformat": 4,
 "nbformat_minor": 2
}
